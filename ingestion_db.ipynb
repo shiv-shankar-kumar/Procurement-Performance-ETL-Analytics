{
 "cells": [
  {
   "cell_type": "code",
   "execution_count": 1,
   "id": "6dd1f9f6",
   "metadata": {},
   "outputs": [
    {
     "name": "stdout",
     "output_type": "stream",
     "text": [
      "hello world\n"
     ]
    }
   ],
   "source": [
    "print('hello world')"
   ]
  },
  {
   "cell_type": "code",
   "execution_count": 3,
   "id": "73cfc7c4",
   "metadata": {},
   "outputs": [],
   "source": [
    "import pandas as pd\n",
    "import os\n",
    "from sqlalchemy import create_engine\n",
    "import logging\n",
    "import time"
   ]
  },
  {
   "cell_type": "code",
   "execution_count": 5,
   "id": "9bb0b2e7",
   "metadata": {},
   "outputs": [],
   "source": [
    "#strucute of logging \n",
    " \n",
    "logging.basicConfig(\n",
    "    filename='logs/ingestion_db.log',  # Log file location\n",
    "    level=logging.DEBUG,      # Log level (DEBUG, INFO, ERROR, warning.)\n",
    "    format='%(asctime)s - %(levelname)s - %(message)s',\n",
    "    filemode='a' #file mode append\n",
    ")"
   ]
  },
  {
   "cell_type": "code",
   "execution_count": 6,
   "id": "a5e7d231",
   "metadata": {},
   "outputs": [],
   "source": [
    "engine = create_engine('sqlite:///inventory_db')\n",
    "\n",
    "def ingest_db(df, table_name, engine):\n",
    "    df.to_sql(table_name, con = engine, if_exists= 'replace', index = False)\n",
    "\n",
    "def load_raw_data():\n",
    "    '''this function will ingest the dataframe into database table'''\n",
    "    start = time.time()\n",
    "    for file in os.listdir(r'D:\\vendor_project\\data\\data'):\n",
    "        if '.csv' in file:\n",
    "            logging.info(file)\n",
    "            print(file)\n",
    "            logging.info(f'Ingesting {file} in database')\n",
    "            full_path = os.path.join(r'D:\\vendor_project\\data\\data', file)\n",
    "            df = pd.read_csv(full_path)\n",
    "            ingest_db(df, file[:-4], engine)\n",
    "            print(df.shape) \n",
    "    end = time.time()\n",
    "    total_time_taken = (end - start)\n",
    "    logging.info('Ingestion complete')\n",
    "    logging.info(f'total_time_taken {total_time_taken} seconds')\n"
   ]
  },
  {
   "cell_type": "code",
   "execution_count": 7,
   "id": "6f0d28e9",
   "metadata": {},
   "outputs": [
    {
     "name": "stdout",
     "output_type": "stream",
     "text": [
      "begin_inventory.csv\n",
      "(206529, 9)\n",
      "end_inventory.csv\n",
      "(224489, 9)\n",
      "purchase_prices.csv\n",
      "(12261, 9)\n",
      "vendor_invoice.csv\n",
      "(5543, 10)\n"
     ]
    }
   ],
   "source": [
    "if __name__ == '__main__':\n",
    "    load_raw_data()"
   ]
  },
  {
   "cell_type": "markdown",
   "id": "0ab1ab39",
   "metadata": {},
   "source": [
    "**used logging to track events, errors, and system behavior for debugging, monitoring, and auditing purposes without using print statements.**"
   ]
  }
 ],
 "metadata": {
  "kernelspec": {
   "display_name": "my_env",
   "language": "python",
   "name": "python3"
  },
  "language_info": {
   "codemirror_mode": {
    "name": "ipython",
    "version": 3
   },
   "file_extension": ".py",
   "mimetype": "text/x-python",
   "name": "python",
   "nbconvert_exporter": "python",
   "pygments_lexer": "ipython3",
   "version": "3.13.3"
  }
 },
 "nbformat": 4,
 "nbformat_minor": 5
}
